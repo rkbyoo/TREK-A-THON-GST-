{
 "cells": [
  {
   "cell_type": "markdown",
   "id": "de7c8c48-99be-41c9-92a0-69067f380b09",
   "metadata": {},
   "source": [
    "## DETECT OBJECTS"
   ]
  },
  {
   "cell_type": "code",
   "execution_count": 45,
   "id": "a49b803c-dace-4529-ac20-67264bff49c6",
   "metadata": {},
   "outputs": [
    {
     "name": "stdout",
     "output_type": "stream",
     "text": [
      "{'inference_id': '4d0fbf82-3b99-4d10-ba80-7ac59b0f980a', 'time': 0.018174281000028714, 'image': {'width': 750, 'height': 1061}, 'predictions': [{'x': 378.5, 'y': 461.5, 'width': 665.0, 'height': 255.0, 'confidence': 0.9568327069282532, 'class': 'table', 'class_id': 1, 'detection_id': 'a666be8c-2446-4fe4-a3be-422bad2da396'}, {'x': 144.0, 'y': 72.0, 'width': 178.0, 'height': 64.0, 'confidence': 0.9423655867576599, 'class': 'paragraph', 'class_id': 0, 'detection_id': '132374cc-6001-462a-b209-0664d282aa63'}, {'x': 577.0, 'y': 255.0, 'width': 242.0, 'height': 110.0, 'confidence': 0.9342994689941406, 'class': 'paragraph', 'class_id': 0, 'detection_id': '6bcf7400-cbc0-47fa-bac0-e2e2f1aa20fd'}, {'x': 112.5, 'y': 155.5, 'width': 113.0, 'height': 63.0, 'confidence': 0.9314045906066895, 'class': 'paragraph', 'class_id': 0, 'detection_id': 'e02680e3-5580-4cab-b7a5-9f0db8f667da'}, {'x': 323.0, 'y': 247.0, 'width': 128.0, 'height': 90.0, 'confidence': 0.9209174513816833, 'class': 'paragraph', 'class_id': 0, 'detection_id': '1fb169fa-2f6b-4d0b-96aa-a620e88fe90c'}, {'x': 653.0, 'y': 92.5, 'width': 94.0, 'height': 97.0, 'confidence': 0.9209113121032715, 'class': 'paragraph', 'class_id': 0, 'detection_id': 'ffeaaa6e-6d09-4ad0-b44c-3728cc2ff65c'}, {'x': 482.0, 'y': 941.5, 'width': 196.0, 'height': 149.0, 'confidence': 0.8977222442626953, 'class': 'paragraph', 'class_id': 0, 'detection_id': '105ef7e2-fb9b-45e4-b5cc-f8f8ad31bade'}, {'x': 107.0, 'y': 247.5, 'width': 110.0, 'height': 89.0, 'confidence': 0.8792654275894165, 'class': 'paragraph', 'class_id': 0, 'detection_id': '13d1db87-fd7a-4772-bfee-bb28ca2406ad'}, {'x': 617.5, 'y': 667.5, 'width': 177.0, 'height': 89.0, 'confidence': 0.805108368396759, 'class': 'paragraph', 'class_id': 0, 'detection_id': '8ead8894-ff6e-4fe7-a4f8-dced39cf7ba8'}]}\n"
     ]
    }
   ],
   "source": [
    "from inference_sdk import InferenceHTTPClient\n",
    "from PIL import Image, ImageDraw\n",
    "import pytesseract\n",
    "import re\n",
    "\n",
    "IMAGE_PATH = \"image2.png\"\n",
    "MODEL_ID = \"invoice-processing--githib/2\"\n",
    "API_KEY = \"I9NtOOtiqQm0MWTk2dvN\"\n",
    "API_URL = \"https://detect.roboflow.com\"\n",
    "\n",
    "CLIENT = InferenceHTTPClient(\n",
    "    api_url=API_URL,\n",
    "    api_key=API_KEY\n",
    ")\n",
    "\n",
    "response = CLIENT.infer(IMAGE_PATH, model_id=MODEL_ID)\n",
    "\n",
    "print(response)"
   ]
  },
  {
   "cell_type": "markdown",
   "id": "1b7a0414-15a6-4ecd-9f40-0a44c0ebe06f",
   "metadata": {},
   "source": [
    "## VISUALIZE"
   ]
  },
  {
   "cell_type": "code",
   "execution_count": 46,
   "id": "b75a78a5-d93f-45de-8efa-59e35dd20215",
   "metadata": {},
   "outputs": [],
   "source": [
    "# Function to visualize the image with bounding boxes\n",
    "def visualize_image_with_boxes(image, response):\n",
    "    draw = ImageDraw.Draw(image)  # Create a drawing context\n",
    "\n",
    "    for prediction in response['predictions']:\n",
    "        x, y = prediction['x'], prediction['y']\n",
    "        width, height = prediction['width'], prediction['height']\n",
    "        label = prediction['class']\n",
    "\n",
    "        # Calculate bounding box coordinates\n",
    "        x0 = int(x - width / 2)\n",
    "        y0 = int(y - height / 2)\n",
    "        x1 = int(x + width / 2)\n",
    "        y1 = int(y + height / 2)\n",
    "\n",
    "        # Draw the bounding box (rectangle) around the detected object\n",
    "        draw.rectangle([x0, y0, x1, y1], outline='red', width=3)\n",
    "        draw.text((x0, y0 - 10), label, fill='red')  # Optionally display the label\n",
    "\n",
    "    # Show the image with bounding boxes\n",
    "    image.show()\n",
    "\n",
    "\n",
    "\n",
    "image = Image.open(IMAGE_PATH)\n",
    "visualize_image_with_boxes(image, response)"
   ]
  },
  {
   "cell_type": "markdown",
   "id": "85eee0a9-6242-4af8-ab78-a5f0b607e7c2",
   "metadata": {},
   "source": [
    "## EXTRACT TEXTS"
   ]
  },
  {
   "cell_type": "code",
   "execution_count": 47,
   "id": "a48ca9c2-8f01-4983-90fd-a9097f149db6",
   "metadata": {
    "scrolled": true
   },
   "outputs": [
    {
     "name": "stdout",
     "output_type": "stream",
     "text": [
      "Class: table, Bounding Box: (46, 334, 711, 589)\n",
      "Extracted Text:\n",
      "DESCRIPTION UNIT PRICE AMOUNT\n",
      "\n",
      "Frontend design restructure 9,999.00 9,999.00\n",
      "Custom icon package 975.00 41,950.00\n",
      "Gandhi mouse pad 99.00 297.00\n",
      "Subtotal 12,246.00\n",
      "\n",
      "GST 12.0% 1,469.52\n",
      "\n",
      "TOTAL 13,715.52\n",
      "--------------------------------------------------\n",
      "Class: paragraph, Bounding Box: (55, 40, 233, 104)\n",
      "Extracted Text:\n",
      "\n",
      "--------------------------------------------------\n",
      "Class: paragraph, Bounding Box: (456, 200, 698, 310)\n",
      "Extracted Text:\n",
      "\n",
      "--------------------------------------------------\n",
      "Class: paragraph, Bounding Box: (56, 124, 169, 187)\n",
      "Extracted Text:\n",
      "paffron Design\n",
      "\n",
      "17 Namrata Bldg\n",
      "Delhi, Delhi 400077\n",
      "--------------------------------------------------\n",
      "Class: paragraph, Bounding Box: (259, 202, 387, 292)\n",
      "Extracted Text:\n",
      "\n",
      "--------------------------------------------------\n",
      "Class: paragraph, Bounding Box: (606, 44, 700, 141)\n",
      "Extracted Text:\n",
      "\n",
      "--------------------------------------------------\n",
      "Class: paragraph, Bounding Box: (384, 867, 580, 1016)\n",
      "Extracted Text:\n",
      "TERMS & CONDITIONS\n",
      "\n",
      "Payment is due within 15 days.\n",
      "\n",
      "‘State Bank of India\n",
      "Account Number: 12345678\n",
      "Routing Number: 09876543210\n",
      "--------------------------------------------------\n",
      "Class: paragraph, Bounding Box: (52, 203, 162, 292)\n",
      "Extracted Text:\n",
      "avindra Mannan\n",
      "\n",
      "27, Dif City, Gupta\n",
      "i, Dethi 40003)\n",
      "--------------------------------------------------\n",
      "Class: paragraph, Bounding Box: (529, 623, 706, 712)\n",
      "Extracted Text:\n",
      "\n",
      "--------------------------------------------------\n"
     ]
    }
   ],
   "source": [
    "# Define regex patterns for specific fields\n",
    "patterns = {\n",
    "    'invoice_number': r\"Invoice No[: ]?\\s*([A-Za-z0-9\\-]+)\",\n",
    "    'gstin': r\"GSTIN[: ]?\\s*([0-9A-Z]{15})\",\n",
    "    'date': r\"Date[: ]?\\s*([\\d]{2}/[\\d]{2}/[\\d]{4})\",  # Match date format DD/MM/YYYY\n",
    "    'amount': r\"Total[: ]?\\s*([₹$]?\\d{1,3}(?:,\\d{3})*(?:\\.\\d{2})?)\"  # Match amounts like ₹15,345.00 or $1,000.00\n",
    "}\n",
    "\n",
    "# List to store all extracted data\n",
    "extracted_data = {}\n",
    "\n",
    "# Function to perform OCR and extract specific fields using regex\n",
    "def extract_data_with_regex(response, patterns, image):\n",
    "    texts = []  # List to store extracted texts\n",
    "    for prediction in response['predictions']:\n",
    "        x, y = prediction['x'], prediction['y']\n",
    "        width, height = prediction['width'], prediction['height']\n",
    "        label = prediction['class']\n",
    "\n",
    "        # Calculate bounding box coordinates\n",
    "        x0 = int(x - width / 2)\n",
    "        y0 = int(y - height / 2)\n",
    "        x1 = int(x + width / 2)\n",
    "        y1 = int(y + height / 2)\n",
    "\n",
    "        # Crop the region of interest (ROI)\n",
    "        roi = image.crop((x0, y0, x1, y1))\n",
    "\n",
    "        # Perform OCR on the cropped region\n",
    "        extracted_text = pytesseract.image_to_string(roi, lang='eng')  # Change 'eng' if using other languages\n",
    "        texts.append({'class': label, 'bounding_box': (x0, y0, x1, y1), 'text': extracted_text.strip()})\n",
    "\n",
    "        # Extract specific data using regex patterns\n",
    "        for key, pattern in patterns.items():\n",
    "            match = re.search(pattern, extracted_text)\n",
    "            if match:\n",
    "                extracted_data[key] = match.group(1)\n",
    "                # Print extracted data here\n",
    "                print(f\"{key}: {match.group(1)}\")\n",
    "\n",
    "    return texts\n",
    "\n",
    "\n",
    "texts = extract_data_with_regex(response, patterns, image)\n",
    "for text in texts:\n",
    "    print(f\"Class: {text['class']}, Bounding Box: {text['bounding_box']}\")\n",
    "    print(f\"Extracted Text:\\n{text['text']}\")\n",
    "    print(\"-\" * 50)"
   ]
  },
  {
   "cell_type": "code",
   "execution_count": null,
   "id": "483b671a-53ec-4b0d-9b92-9a8a8de0388c",
   "metadata": {},
   "outputs": [],
   "source": []
  }
 ],
 "metadata": {
  "kernelspec": {
   "display_name": "Python 3 (ipykernel)",
   "language": "python",
   "name": "python3"
  },
  "language_info": {
   "codemirror_mode": {
    "name": "ipython",
    "version": 3
   },
   "file_extension": ".py",
   "mimetype": "text/x-python",
   "name": "python",
   "nbconvert_exporter": "python",
   "pygments_lexer": "ipython3",
   "version": "3.12.7"
  }
 },
 "nbformat": 4,
 "nbformat_minor": 5
}
